{
 "cells": [
  {
   "cell_type": "code",
   "execution_count": 1,
   "id": "82d21a73",
   "metadata": {},
   "outputs": [],
   "source": [
    "from qiskit import QuantumCircuit"
   ]
  },
  {
   "cell_type": "code",
   "execution_count": 2,
   "id": "957ccc35",
   "metadata": {},
   "outputs": [],
   "source": [
    "#Diffuser circuit description \n",
    "diffuser = QuantumCircuit(2);\n",
    "diffuser.h([0, 1]);\n",
    "diffuser.x([0, 1]);\n",
    "diffuser.cz(0, 1);\n",
    "diffuser.x([0, 1]);\n",
    "diffuser.h([0, 1]);"
   ]
  },
  {
   "cell_type": "code",
   "execution_count": 3,
   "id": "3b16212a",
   "metadata": {},
   "outputs": [
    {
     "data": {
      "text/html": [
       "<pre style=\"word-wrap: normal;white-space: pre;background: #fff0;line-height: 1.1;font-family: &quot;Courier New&quot;,Courier,monospace\">     ┌───┐┌───┐   ┌───┐┌───┐\n",
       "q_0: ┤ H ├┤ X ├─■─┤ X ├┤ H ├\n",
       "     ├───┤├───┤ │ ├───┤├───┤\n",
       "q_1: ┤ H ├┤ X ├─■─┤ X ├┤ H ├\n",
       "     └───┘└───┘   └───┘└───┘</pre>"
      ],
      "text/plain": [
       "     ┌───┐┌───┐   ┌───┐┌───┐\n",
       "q_0: ┤ H ├┤ X ├─■─┤ X ├┤ H ├\n",
       "     ├───┤├───┤ │ ├───┤├───┤\n",
       "q_1: ┤ H ├┤ X ├─■─┤ X ├┤ H ├\n",
       "     └───┘└───┘   └───┘└───┘"
      ]
     },
     "execution_count": 3,
     "metadata": {},
     "output_type": "execute_result"
    }
   ],
   "source": [
    "diffuser.draw()"
   ]
  },
  {
   "cell_type": "markdown",
   "id": "535f1191",
   "metadata": {},
   "source": [
    "The diffuser circuit executes second step in Grover's algorithm\n",
    "\n",
    "It performs reflection of quantum state about <s|, where <s| is equal superposition of all possible inputs"
   ]
  }
 ],
 "metadata": {
  "kernelspec": {
   "display_name": "Python 3 (ipykernel)",
   "language": "python",
   "name": "python3"
  },
  "language_info": {
   "codemirror_mode": {
    "name": "ipython",
    "version": 3
   },
   "file_extension": ".py",
   "mimetype": "text/x-python",
   "name": "python",
   "nbconvert_exporter": "python",
   "pygments_lexer": "ipython3",
   "version": "3.9.7"
  }
 },
 "nbformat": 4,
 "nbformat_minor": 5
}
