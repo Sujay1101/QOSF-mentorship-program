{
 "cells": [
  {
   "cell_type": "code",
   "execution_count": null,
   "id": "28c36201",
   "metadata": {},
   "outputs": [],
   "source": [
    "from qiskit import QuantumCircuit\n",
    "from qiskit.providers.aer import AerSimulator "
   ]
  },
  {
   "cell_type": "code",
   "execution_count": null,
   "id": "47fd14a5",
   "metadata": {},
   "outputs": [],
   "source": [
    "#Qubits in memory ascending by address\n",
    "mem = \"0101\"\n",
    "\n",
    "#The address from which we want to retreive qubit\n",
    "s = \"10\"\n",
    "\n",
    "#RAM circuit has 11 qubits as input and 1 qubit as output\n",
    "RAM = QuantumCircuit(11, 1);\n",
    "\n",
    "#Setting values in RAM appropriately\n",
    "for i in range(len(mem)):\n",
    "    if(mem[i] == \"1\"):\n",
    "        RAM.x(6 + i);\n",
    "    \n",
    "#describing the ram circuit \n",
    "if(s[0] == \"1\"):\n",
    "    RAM.x(0);\n",
    "if(s[1] == \"1\"):\n",
    "    RAM.x(1);   \n",
    "RAM.x(2);\n",
    "RAM.cx(1, 3);\n",
    "RAM.cx(3, 2);\n",
    "RAM.ccx(0, 2, 4);\n",
    "RAM.ccx(0, 3, 5);\n",
    "RAM.cx(4, 2);\n",
    "RAM.cx(5, 3);\n",
    "RAM.ccx(2, 6, 10);\n",
    "RAM.ccx(3, 7, 10);\n",
    "RAM.ccx(4, 8, 10);\n",
    "RAM.ccx(5, 9, 10);\n",
    "RAM.measure([10], [0]);"
   ]
  },
  {
   "cell_type": "code",
   "execution_count": null,
   "id": "84cf4c2e",
   "metadata": {},
   "outputs": [],
   "source": [
    "#Simulating the circuit\n",
    "sim = AerSimulator()\n",
    "job = sim.run(RAM)   \n",
    "result = job.result()  \n",
    "result.get_counts()    "
   ]
  },
  {
   "cell_type": "code",
   "execution_count": null,
   "id": "23b1ca77",
   "metadata": {},
   "outputs": [],
   "source": [
    "RAM.draw()"
   ]
  }
 ],
 "metadata": {
  "kernelspec": {
   "display_name": "Python 3 (ipykernel)",
   "language": "python",
   "name": "python3"
  },
  "language_info": {
   "codemirror_mode": {
    "name": "ipython",
    "version": 3
   },
   "file_extension": ".py",
   "mimetype": "text/x-python",
   "name": "python",
   "nbconvert_exporter": "python",
   "pygments_lexer": "ipython3",
   "version": "3.9.7"
  }
 },
 "nbformat": 4,
 "nbformat_minor": 5
}
