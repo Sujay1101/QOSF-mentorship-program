{
 "cells": [
  {
   "cell_type": "code",
   "execution_count": null,
   "id": "44989f7f",
   "metadata": {},
   "outputs": [],
   "source": [
    "from qiskit import QuantumCircuit\n",
    "from qiskit.providers.aer import AerSimulator\n",
    "from qiskit import Aer, transpile"
   ]
  },
  {
   "cell_type": "code",
   "execution_count": null,
   "id": "bdae57c8",
   "metadata": {},
   "outputs": [],
   "source": [
    "#Creating equal superposition of 2 qubit quantum states\n",
    "qc = QuantumCircuit(11, 2);\n",
    "qc.h([0, 1]);"
   ]
  },
  {
   "cell_type": "code",
   "execution_count": null,
   "id": "f6321149",
   "metadata": {},
   "outputs": [],
   "source": [
    "#Function to check whether string has alternating bits\n",
    "def alternate(s):\n",
    "    \"\"\" Returns true if input string s has alternating 0s and 1s false otherwise\"\"\"\n",
    "    temp = s[0];\n",
    "    for i in range(0, len(s), 2):\n",
    "        if(s[i] != temp):\n",
    "            return False;\n",
    "    temp = s[1];\n",
    "    for i in range(1, len(s), 2):\n",
    "        if(s[i] != temp):\n",
    "            return False;\n",
    "    return True;"
   ]
  },
  {
   "cell_type": "code",
   "execution_count": null,
   "id": "bb33c4da",
   "metadata": {},
   "outputs": [],
   "source": [
    "#Storing 1 in auxilliary array when corrsponding number satisfies conditions and 0 otherwise\n",
    "arr = [1, 5, 7, 10]\n",
    "ram_arr = [];    \n",
    "\n",
    "for n in arr:\n",
    "    binary = format(n, \"04b\")\n",
    "    if(alternate(binary) == True):\n",
    "        ram_arr.append(1);\n",
    "    else:\n",
    "        ram_arr.append(0);"
   ]
  },
  {
   "cell_type": "code",
   "execution_count": null,
   "id": "6708fc60",
   "metadata": {},
   "outputs": [],
   "source": [
    "#RAM circuit\n",
    "RAM = QuantumCircuit(11, 1);\n",
    "RAM.x(2);\n",
    "\n",
    "#Setting memory values in RAM according to auxilliary array\n",
    "for i in range(len(ram_arr)):\n",
    "    if(ram_arr[i] == 1):\n",
    "        RAM.x(6 + i);\n",
    "    \n",
    "#describing the ram circuit \n",
    "RAM.cx(1, 3);\n",
    "RAM.cx(3, 2);\n",
    "RAM.ccx(0, 2, 4);\n",
    "RAM.ccx(0, 3, 5);\n",
    "RAM.cx(4, 2);\n",
    "RAM.cx(5, 3);\n",
    "RAM.ccx(2, 6, 10);\n",
    "RAM.ccx(3, 7, 10);\n",
    "RAM.ccx(4, 8, 10);\n",
    "RAM.ccx(5, 9, 10);\n",
    "\n",
    "#Joining RAM circuit to ending\n",
    "qc = qc.compose(RAM, [1, 0, 2, 3, 4, 5, 6, 7, 8, 9, 10]);"
   ]
  },
  {
   "cell_type": "code",
   "execution_count": null,
   "id": "0ba6066d",
   "metadata": {},
   "outputs": [],
   "source": [
    "#Oracle circuit\n",
    "oracle = QuantumCircuit(4, 2);\n",
    "oracle.cx(0, 1);\n",
    "oracle.cx(1, 0);\n",
    "oracle.cx(2, 3);\n",
    "oracle.cx(3, 2);\n",
    "oracle.cz(0, 2);\n",
    "oracle.cx(3, 2);\n",
    "oracle.cx(2, 3);\n",
    "oracle.cx(1, 0);\n",
    "oracle.cx(0, 1);\n",
    "\n",
    "#Joining RAM circuit to ending\n",
    "qc = qc.compose(RAM, [1, 0, 2, 3, 4, 5, 6, 7, 8, 9, 10]);"
   ]
  },
  {
   "cell_type": "code",
   "execution_count": null,
   "id": "f91218c2",
   "metadata": {},
   "outputs": [],
   "source": [
    "#Diffuser circuit\n",
    "diffuser = QuantumCircuit(2);\n",
    "diffuser.h([0, 1]);\n",
    "diffuser.x([0, 1]);\n",
    "diffuser.cz(0, 1);\n",
    "diffuser.x([0, 1]);\n",
    "diffuser.h([0, 1]);\n",
    "\n",
    "#Joining diffuser circuit at the ending\n",
    "qc = qc.compose(diffuser, [0, 2]);"
   ]
  },
  {
   "cell_type": "code",
   "execution_count": null,
   "id": "81ff7198",
   "metadata": {},
   "outputs": [],
   "source": [
    "# Simulate the circuit\n",
    "qc.measure([0, 1], [0, 1]);\n",
    "sim = AerSimulator();\n",
    "job = sim.run(qc);\n",
    "result = job.result();\n",
    "result.get_counts()"
   ]
  },
  {
   "cell_type": "code",
   "execution_count": null,
   "id": "0a2f058a",
   "metadata": {},
   "outputs": [],
   "source": [
    "qc.draw()"
   ]
  }
 ],
 "metadata": {
  "kernelspec": {
   "display_name": "Python 3 (ipykernel)",
   "language": "python",
   "name": "python3"
  },
  "language_info": {
   "codemirror_mode": {
    "name": "ipython",
    "version": 3
   },
   "file_extension": ".py",
   "mimetype": "text/x-python",
   "name": "python",
   "nbconvert_exporter": "python",
   "pygments_lexer": "ipython3",
   "version": "3.9.7"
  }
 },
 "nbformat": 4,
 "nbformat_minor": 5
}
