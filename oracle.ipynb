{
 "cells": [
  {
   "cell_type": "code",
   "execution_count": 2,
   "id": "0a02a1ef",
   "metadata": {},
   "outputs": [],
   "source": [
    "from qiskit import QuantumCircuit"
   ]
  },
  {
   "cell_type": "code",
   "execution_count": 5,
   "id": "a7efa00d",
   "metadata": {},
   "outputs": [],
   "source": [
    "#Oracle circuit\n",
    "oracle = QuantumCircuit(4, 2);\n",
    "oracle.cx(0, 1);\n",
    "oracle.cx(1, 0);\n",
    "oracle.cx(2, 3);\n",
    "oracle.cx(3, 2);\n",
    "oracle.cz(0, 2);\n",
    "oracle.cx(3, 2);\n",
    "oracle.cx(2, 3);\n",
    "oracle.cx(1, 0);\n",
    "oracle.cx(0, 1);\n",
    "oracle.measure([0, 2], [0, 1]);"
   ]
  },
  {
   "cell_type": "code",
   "execution_count": 6,
   "id": "7783d402",
   "metadata": {},
   "outputs": [
    {
     "data": {
      "text/html": [
       "<pre style=\"word-wrap: normal;white-space: pre;background: #fff0;line-height: 1.1;font-family: &quot;Courier New&quot;,Courier,monospace\">          ┌───┐   ┌───┐     ┌─┐   \n",
       "q_0: ──■──┤ X ├─■─┤ X ├──■──┤M├───\n",
       "     ┌─┴─┐└─┬─┘ │ └─┬─┘┌─┴─┐└╥┘   \n",
       "q_1: ┤ X ├──■───┼───■──┤ X ├─╫────\n",
       "     └───┘┌───┐ │ ┌───┐└───┘ ║ ┌─┐\n",
       "q_2: ──■──┤ X ├─■─┤ X ├──■───╫─┤M├\n",
       "     ┌─┴─┐└─┬─┘   └─┬─┘┌─┴─┐ ║ └╥┘\n",
       "q_3: ┤ X ├──■───────■──┤ X ├─╫──╫─\n",
       "     └───┘             └───┘ ║  ║ \n",
       "c: 2/════════════════════════╩══╩═\n",
       "                             0  1 </pre>"
      ],
      "text/plain": [
       "          ┌───┐   ┌───┐     ┌─┐   \n",
       "q_0: ──■──┤ X ├─■─┤ X ├──■──┤M├───\n",
       "     ┌─┴─┐└─┬─┘ │ └─┬─┘┌─┴─┐└╥┘   \n",
       "q_1: ┤ X ├──■───┼───■──┤ X ├─╫────\n",
       "     └───┘┌───┐ │ ┌───┐└───┘ ║ ┌─┐\n",
       "q_2: ──■──┤ X ├─■─┤ X ├──■───╫─┤M├\n",
       "     ┌─┴─┐└─┬─┘   └─┬─┘┌─┴─┐ ║ └╥┘\n",
       "q_3: ┤ X ├──■───────■──┤ X ├─╫──╫─\n",
       "     └───┘             └───┘ ║  ║ \n",
       "c: 2/════════════════════════╩══╩═\n",
       "                             0  1 "
      ]
     },
     "execution_count": 6,
     "metadata": {},
     "output_type": "execute_result"
    }
   ],
   "source": [
    "oracle.draw()"
   ]
  },
  {
   "cell_type": "markdown",
   "id": "45fb4074",
   "metadata": {},
   "source": [
    "When q1 and q3 are <1| the phase of quantum state <q1q0| flips\n",
    "\n",
    "When q1 qnd q3 are <0| the phase of quantum state <q1q0| does not flip "
   ]
  }
 ],
 "metadata": {
  "kernelspec": {
   "display_name": "Python 3 (ipykernel)",
   "language": "python",
   "name": "python3"
  },
  "language_info": {
   "codemirror_mode": {
    "name": "ipython",
    "version": 3
   },
   "file_extension": ".py",
   "mimetype": "text/x-python",
   "name": "python",
   "nbconvert_exporter": "python",
   "pygments_lexer": "ipython3",
   "version": "3.9.7"
  }
 },
 "nbformat": 4,
 "nbformat_minor": 5
}
